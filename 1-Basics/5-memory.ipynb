{
 "cells": [
  {
   "cell_type": "markdown",
   "id": "5f82c073",
   "metadata": {},
   "source": [
    "# Implementing a Plan-and-Execute Agent with Router"
   ]
  },
  {
   "cell_type": "code",
   "execution_count": 1,
   "id": "e411eed2",
   "metadata": {},
   "outputs": [],
   "source": [
    "import os\n",
    "from dotenv import load_dotenv\n",
    "\n",
    "load_dotenv()\n",
    "os.environ['OPEN OPENAI_API_KEY'] = os.getenv('OPENAI_API_KEY') # type: ignore"
   ]
  },
  {
   "cell_type": "code",
   "execution_count": 10,
   "id": "f09ab91c",
   "metadata": {},
   "outputs": [],
   "source": [
    "from typing import TypedDict, Annotated\n",
    "from langgraph.graph import StateGraph, START, END\n",
    "from langgraph.graph.message import add_messages"
   ]
  },
  {
   "cell_type": "markdown",
   "id": "28837ea0",
   "metadata": {},
   "source": [
    "## 1 - Define the State\n",
    "\n",
    "Track the plan, past steps, response, and original input"
   ]
  },
  {
   "cell_type": "code",
   "execution_count": 11,
   "id": "06cb2d6e",
   "metadata": {},
   "outputs": [],
   "source": [
    "class State(TypedDict):\n",
    "    \"\"\"Normal state\"\"\"\n",
    "    messages: Annotated[list, add_messages]"
   ]
  },
  {
   "cell_type": "markdown",
   "id": "5210f963",
   "metadata": {},
   "source": [
    "## 3 - Define the memory to persist the conversations\n",
    "\n",
    "**NOTE**: Use SqliteSaver or PostgresSaver to persiste conversation rather than using InMemorySaver."
   ]
  },
  {
   "cell_type": "code",
   "execution_count": 12,
   "id": "d47bb09b",
   "metadata": {},
   "outputs": [],
   "source": [
    "from langgraph.checkpoint.memory import InMemorySaver\n",
    "\n",
    "memory = InMemorySaver()"
   ]
  },
  {
   "cell_type": "markdown",
   "id": "4ad4d450",
   "metadata": {},
   "source": [
    "## 4 - Create a simple chat graph\n"
   ]
  },
  {
   "cell_type": "code",
   "execution_count": 8,
   "id": "1498ff50",
   "metadata": {},
   "outputs": [],
   "source": [
    "from langchain.chat_models import init_chat_model\n",
    "\n",
    "llm = init_chat_model(\"openai:gpt-4.1\")\n",
    "\n",
    "def chatbot(state: State):\n",
    "    return {\"messages\": [llm.invoke(state[\"messages\"])]}\n",
    "\n",
    "graph_builder = StateGraph(State)\n",
    "graph_builder.add_node(\"chatbot\", chatbot)\n",
    "graph_builder.add_edge(START, \"chatbot\")\n",
    "graph_builder.add_edge(\"chatbot\", END)\n",
    "\n",
    "## Adding memory to the graph\n",
    "graph = graph_builder.compile(checkpointer=memory)"
   ]
  },
  {
   "cell_type": "markdown",
   "id": "1413018d",
   "metadata": {},
   "source": [
    "## 5 - Testing the memory of the chat"
   ]
  },
  {
   "cell_type": "code",
   "execution_count": 9,
   "id": "098a6065",
   "metadata": {},
   "outputs": [
    {
     "name": "stdout",
     "output_type": "stream",
     "text": [
      "================================\u001b[1m Human Message \u001b[0m=================================\n",
      "\n",
      "Hola soy Diego!!\n",
      "==================================\u001b[1m Ai Message \u001b[0m==================================\n",
      "\n",
      "¡Hola, Diego! 😊 ¿Cómo estás? ¿En qué puedo ayudarte hoy?\n"
     ]
    }
   ],
   "source": [
    "config = { \"configurable\": { \"thread_id\": \"1\" } }\n",
    "\n",
    "events = graph.stream(\n",
    "    { \"messages\": [{ \"role\": \"user\", \"content\": \"Hola soy Diego!!\" }]},\n",
    "    config, # type: ignore\n",
    "    stream_mode=\"values\"\n",
    ")\n",
    "for event in events:\n",
    "    event[\"messages\"][-1].pretty_print()"
   ]
  },
  {
   "cell_type": "code",
   "execution_count": 13,
   "id": "361f4020",
   "metadata": {},
   "outputs": [
    {
     "name": "stdout",
     "output_type": "stream",
     "text": [
      "================================\u001b[1m Human Message \u001b[0m=================================\n",
      "\n",
      "Cual te dije que era mi nombre?\n",
      "==================================\u001b[1m Ai Message \u001b[0m==================================\n",
      "\n",
      "Me dijiste que tu nombre es **Diego**. ¿Acerté? 😊\n"
     ]
    }
   ],
   "source": [
    "config = { \"configurable\": { \"thread_id\": \"1\" } }\n",
    "\n",
    "events = graph.stream(\n",
    "    { \"messages\": [{ \"role\": \"user\", \"content\": \"Cual te dije que era mi nombre?\" }]},\n",
    "    config, # type: ignore\n",
    "    stream_mode=\"values\"\n",
    ")\n",
    "for event in events:\n",
    "    event[\"messages\"][-1].pretty_print()"
   ]
  },
  {
   "cell_type": "markdown",
   "id": "4f975c00",
   "metadata": {},
   "source": [
    "## 6 - Testing with other user"
   ]
  },
  {
   "cell_type": "code",
   "execution_count": 14,
   "id": "2432f556",
   "metadata": {},
   "outputs": [
    {
     "name": "stdout",
     "output_type": "stream",
     "text": [
      "================================\u001b[1m Human Message \u001b[0m=================================\n",
      "\n",
      "Cual te dije que era mi nombre?\n",
      "==================================\u001b[1m Ai Message \u001b[0m==================================\n",
      "\n",
      "No me has dicho tu nombre aún. ¿Quieres decírmelo ahora?\n"
     ]
    }
   ],
   "source": [
    "config = { \"configurable\": { \"thread_id\": \"2\" } }\n",
    "\n",
    "events = graph.stream(\n",
    "    { \"messages\": [{ \"role\": \"user\", \"content\": \"Cual te dije que era mi nombre?\" }]},\n",
    "    config, # type: ignore\n",
    "    stream_mode=\"values\"\n",
    ")\n",
    "for event in events:\n",
    "    event[\"messages\"][-1].pretty_print()"
   ]
  }
 ],
 "metadata": {
  "kernelspec": {
   "display_name": "Python 3",
   "language": "python",
   "name": "python3"
  },
  "language_info": {
   "codemirror_mode": {
    "name": "ipython",
    "version": 3
   },
   "file_extension": ".py",
   "mimetype": "text/x-python",
   "name": "python",
   "nbconvert_exporter": "python",
   "pygments_lexer": "ipython3",
   "version": "3.12.0"
  }
 },
 "nbformat": 4,
 "nbformat_minor": 5
}
