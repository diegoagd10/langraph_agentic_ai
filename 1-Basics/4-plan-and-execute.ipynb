{
 "cells": [
  {
   "cell_type": "markdown",
   "id": "5f82c073",
   "metadata": {},
   "source": [
    "# Implementing a Plan-and-Execute Agent with Router"
   ]
  },
  {
   "cell_type": "code",
   "execution_count": 70,
   "id": "e411eed2",
   "metadata": {},
   "outputs": [],
   "source": [
    "import os\n",
    "from dotenv import load_dotenv\n",
    "\n",
    "load_dotenv()\n",
    "os.environ['OPEN OPENAI_API_KEY'] = os.getenv('OPENAI_API_KEY') # type: ignore"
   ]
  },
  {
   "cell_type": "code",
   "execution_count": 71,
   "id": "f09ab91c",
   "metadata": {},
   "outputs": [],
   "source": [
    "import operator\n",
    "from typing import TypedDict, Annotated, List, Tuple, Union, Literal\n",
    "from pydantic import BaseModel, Field\n",
    "from langgraph.graph import StateGraph, START, END\n",
    "from langgraph.graph.message import add_messages\n",
    "from langgraph.prebuilt import create_react_agent\n",
    "from langchain_openai import ChatOpenAI\n",
    "from langchain_core.messages import HumanMessage\n",
    "from langchain_core.prompts import ChatPromptTemplate\n",
    "from langchain_core.tools import tool"
   ]
  },
  {
   "cell_type": "markdown",
   "id": "28837ea0",
   "metadata": {},
   "source": [
    "## 1 - Define the State\n",
    "\n",
    "Track the plan, past steps, response, and original input"
   ]
  },
  {
   "cell_type": "code",
   "execution_count": 72,
   "id": "06cb2d6e",
   "metadata": {},
   "outputs": [],
   "source": [
    "class PlanExecute(TypedDict):\n",
    "    \"\"\"State for plan-and-execute agent\"\"\"\n",
    "    input: str\n",
    "    plan: List[str]\n",
    "    past_steps: Annotated[List[Tuple], operator.add]\n",
    "    response: str"
   ]
  },
  {
   "cell_type": "markdown",
   "id": "5b808b38",
   "metadata": {},
   "source": [
    "## 2 - Create Tools"
   ]
  },
  {
   "cell_type": "code",
   "execution_count": 73,
   "id": "9f86d48f",
   "metadata": {},
   "outputs": [],
   "source": [
    "@tool\n",
    "def find_contacts() -> list[str]:\n",
    "    \"\"\"Gets the contacts from the database\"\"\"\n",
    "    print(\"TOOL - find_contacts - Contacts got executed\")\n",
    "    return [\"Diego Jr.\", \"Angelica\", \"Alessa\", \"Papa\", \"Mama\"]\n",
    "\n",
    "@tool\n",
    "def send_email(contact: str, body: str) -> str:\n",
    "    \"\"\"Sends an email to a contact\"\"\"\n",
    "    print(f\"TOOL - send_email - Email sent to {contact} with body: {body}\")\n",
    "    return f\"Email sent to {contact} with body: {body}\"\n",
    "\n",
    "@tool\n",
    "def create_calendar_event(title: str, date: str, time: str) -> str:\n",
    "    \"\"\"Creates a calendar event\"\"\"\n",
    "    print(f\"TOOL - create_calendar_event - Created event '{title}' on {date} at {time}\")\n",
    "    return f\"Created event '{title}' on {date} at {time}\"\n",
    "\n",
    "tools = [find_contacts, send_email, create_calendar_event]"
   ]
  },
  {
   "cell_type": "markdown",
   "id": "5210f963",
   "metadata": {},
   "source": [
    "## 3 - Create the Execution Agent\n",
    "\n",
    "Use the prebuilt ReAct agent for executing individual tasks"
   ]
  },
  {
   "cell_type": "code",
   "execution_count": 74,
   "id": "d47bb09b",
   "metadata": {},
   "outputs": [],
   "source": [
    "llm = ChatOpenAI(model=\"gpt-4o\")\n",
    "\n",
    "agent_prompt = \"\"\"You are a helpful assistant that executes tasks step by step. \n",
    "Use the available tools to complete each task accurately.\"\"\"\n",
    "\n",
    "agent_executor = create_react_agent(llm, tools, prompt=agent_prompt)"
   ]
  },
  {
   "cell_type": "markdown",
   "id": "4ad4d450",
   "metadata": {},
   "source": [
    "## 4 - Define Plan and Response Models\n",
    "\n",
    "Use Pydantic models for structured output"
   ]
  },
  {
   "cell_type": "code",
   "execution_count": 75,
   "id": "1498ff50",
   "metadata": {},
   "outputs": [],
   "source": [
    "class Plan(BaseModel):\n",
    "    \"\"\"Plan to follow in future\"\"\"\n",
    "    steps: List[str] = Field(\n",
    "        description=\"Different steps to follow, should be in sorted order\"\n",
    "    )\n",
    "\n",
    "class Response(BaseModel):\n",
    "    \"\"\"Response to user\"\"\"\n",
    "    response: str\n",
    "\n",
    "class Act(BaseModel):\n",
    "    \"\"\"Action to perform\"\"\"\n",
    "    action: Union[Response, Plan] = Field(\n",
    "        description=\"Action to perform. If you want to respond to user, use Response. \"\n",
    "        \"If you need to further use tools to get the answer, use Plan.\"\n",
    "    )"
   ]
  },
  {
   "cell_type": "markdown",
   "id": "db91fc0f",
   "metadata": {},
   "source": [
    "## 5 - Create Planner and Replanner"
   ]
  },
  {
   "cell_type": "code",
   "execution_count": 76,
   "id": "f9aeac15",
   "metadata": {},
   "outputs": [],
   "source": [
    "# Planner prompt\n",
    "planner_prompt = ChatPromptTemplate.from_messages(\n",
    "    [\n",
    "        (\n",
    "            \"system\",\n",
    "            \"\"\"For the given objective, come up with a simple step by step plan.\n",
    "This plan should involve individual tasks, that if executed correctly will yield the correct answer.\n",
    "Do not add any superfluous steps. The result of the final step should be the final answer.\n",
    "Make sure that each step has all the information needed - do not skip steps.\"\"\",\n",
    "        ),\n",
    "        (\"user\", \"{input}\"),\n",
    "    ]\n",
    ")\n",
    "\n",
    "planner = planner_prompt | llm.with_structured_output(Plan)\n",
    "\n",
    "# Replanner prompt\n",
    "replanner_prompt = ChatPromptTemplate.from_template(\n",
    "    \"\"\"For the given objective, come up with a simple step by step plan.\n",
    "This plan should involve individual tasks, that if executed correctly will yield the correct answer.\n",
    "Do not add any superfluous steps. The result of the final step should be the final answer.\n",
    "Make sure that each step has all the information needed - do not skip steps.\n",
    "\n",
    "Your objective was this:\n",
    "{input}\n",
    "\n",
    "Your original plan was this:\n",
    "{plan}\n",
    "\n",
    "You have currently done the following steps:\n",
    "{past_steps}\n",
    "\n",
    "Update your plan accordingly. If no more steps are needed and you can return to the user, then respond with that.\n",
    "Otherwise, fill out the plan. Only add steps to the plan that still NEED to be done.\n",
    "Do not return previously done steps as part of the plan.\"\"\"\n",
    ")\n",
    "\n",
    "replanner = replanner_prompt | llm.with_structured_output(Act)"
   ]
  },
  {
   "cell_type": "markdown",
   "id": "6c997509",
   "metadata": {},
   "source": [
    "## 6 - Define Node Functions"
   ]
  },
  {
   "cell_type": "code",
   "execution_count": 77,
   "id": "4e528af5",
   "metadata": {},
   "outputs": [],
   "source": [
    "async def plan_step(state: PlanExecute):\n",
    "    \"\"\"Generate initial plan\"\"\"\n",
    "    plan = await planner.ainvoke({\"input\": state[\"input\"]})\n",
    "    return {\"plan\": plan.steps}\n",
    "\n",
    "async def execute_step(state: PlanExecute):\n",
    "    \"\"\"Execute the first step of the plan\"\"\"\n",
    "    plan = state[\"plan\"]\n",
    "    plan_str = \"\\n\".join(f\"{i + 1}. {step}\" for i, step in enumerate(plan))\n",
    "    task = plan[0]\n",
    "    \n",
    "    task_formatted = f\"\"\"For the following plan:\n",
    "{plan_str}\n",
    "\n",
    "You are tasked with executing step 1: {task}\"\"\"\n",
    "    \n",
    "    agent_response = await agent_executor.ainvoke(\n",
    "        {\"messages\": [(\"user\", task_formatted)]}\n",
    "    )\n",
    "    \n",
    "    return {\n",
    "        \"past_steps\": [(task, agent_response[\"messages\"][-1].content)],\n",
    "    }\n",
    "\n",
    "async def replan_step(state: PlanExecute):\n",
    "    \"\"\"Replan based on executed steps\"\"\"\n",
    "    output = await replanner.ainvoke(state)\n",
    "    \n",
    "    if isinstance(output.action, Response):\n",
    "        return {\"response\": output.action.response}\n",
    "    else:\n",
    "        return {\"plan\": output.action.steps}\n",
    "\n",
    "def should_end(state: PlanExecute) -> Literal[\"agent\", \"__end__\"]:\n",
    "    \"\"\"Determine if we should continue or end\"\"\"\n",
    "    if \"response\" in state and state[\"response\"]:\n",
    "        return \"__end__\"\n",
    "    if not state.get(\"plan\"):\n",
    "        return \"__end__\"\n",
    "    else:\n",
    "        return \"agent\""
   ]
  },
  {
   "cell_type": "markdown",
   "id": "5f82c073",
   "metadata": {},
   "source": [
    "## 7 - Build the Graph"
   ]
  },
  {
   "cell_type": "code",
   "execution_count": 78,
   "id": "44666c33",
   "metadata": {},
   "outputs": [],
   "source": [
    "workflow = StateGraph(PlanExecute)\n",
    "\n",
    "# Add nodes\n",
    "workflow.add_node(\"planner\", plan_step)\n",
    "workflow.add_node(\"agent\", execute_step)\n",
    "workflow.add_node(\"replan\", replan_step)\n",
    "\n",
    "# Define edges\n",
    "workflow.add_edge(START, \"planner\")\n",
    "workflow.add_edge(\"planner\", \"agent\")\n",
    "workflow.add_edge(\"agent\", \"replan\")\n",
    "\n",
    "workflow.add_conditional_edges(\n",
    "    \"replan\",\n",
    "    should_end,\n",
    "    [\"agent\", END],\n",
    ")\n",
    "\n",
    "# Compile the graph\n",
    "graph = workflow.compile()"
   ]
  },
  {
   "cell_type": "code",
   "execution_count": 79,
   "id": "visualization",
   "metadata": {},
   "outputs": [
    {
     "data": {
      "image/png": "[encoded data removed]",
      "text/plain": [
       "<IPython.core.display.Image object>"
      ]
     },
     "metadata": {},
     "output_type": "display_data"
    }
   ],
   "source": [
    "from IPython.display import Image, display\n",
    "display(Image(graph.get_graph().draw_mermaid_png()))"
   ]
  },
  {
   "cell_type": "markdown",
   "id": "test_agent",
   "metadata": {},
   "source": [
    "## 8 - Test the Agent"
   ]
  },
  {
   "cell_type": "code",
   "execution_count": 80,
   "id": "simple_test",
   "metadata": {},
   "outputs": [
    {
     "name": "stdout",
     "output_type": "stream",
     "text": [
      "planner: {'plan': ['Open your email client or service (e.g., Gmail, Outlook).', 'Log into your email account using your username and password, if required.', \"Click on the 'Compose' button to start a new email.\", \"In the 'To' field, enter the recipient's email address: polo@gmail.com.\", \"In the 'Subject' field, type a brief description of the email, such as 'Schedule Change'.\", 'In the main body of the email, write your message: \"Hi Polo,\\\\n\\\\nI hope this message finds you well. Unfortunately, I am unable to meet today. I apologize for any inconvenience this may cause.\\\\n\\\\nBest regards,\\\\n[Your Name]\"', 'Review the email for any errors or additional information you might want to include.', \"Click on the 'Send' button to send your email.\"]}\n",
      "--------------------------------------------------------------------------------\n",
      "TOOL - send_email - Email sent to polo@gmail.com with body: Hi Polo,\n",
      "\n",
      "I hope this message finds you well. Unfortunately, I am unable to meet today. I apologize for any inconvenience this may cause.\n",
      "\n",
      "Best regards,\n",
      "[Your Name]\n",
      "agent: {'past_steps': [('Open your email client or service (e.g., Gmail, Outlook).', \"The email has been successfully sent to Polo at the address polo@gmail.com. If there's anything else you need assistance with, feel free to let me know!\")]}\n",
      "--------------------------------------------------------------------------------\n",
      "replan: {'response': \"The objective has already been fulfilled because the email has been successfully sent to Polo at the address polo@gmail.com. There's no need for further steps. If there's anything else you need help with, feel free to ask!\"}\n",
      "--------------------------------------------------------------------------------\n"
     ]
    }
   ],
   "source": [
    "# Simple test\n",
    "config = {\"recursion_limit\": 50}\n",
    "inputs = {\n",
    "    \"input\": \"Send an email to polo@gmail.com saying I can't meet today.\"\n",
    "}\n",
    "\n",
    "async for event in graph.astream(inputs, config=config):\n",
    "    for k, v in event.items():\n",
    "        if k != \"__end__\":\n",
    "            print(f\"{k}: {v}\")\n",
    "            print(\"-\" * 80)"
   ]
  },
  {
   "cell_type": "code",
   "execution_count": 81,
   "id": "complex_test",
   "metadata": {},
   "outputs": [
    {
     "name": "stdout",
     "output_type": "stream",
     "text": [
      "\n",
      "PLANNER:\n",
      "Plan created:\n",
      "  1. Open your email application or service.\n",
      "  2. Compose a new email to polo@gmail.com with the subject 'No puedo verte hoy'.\n",
      "  3. Write the message body stating that you won't be able to see him today.\n",
      "  4. Send the email to polo@gmail.com.\n",
      "  5. Open your contacts list in your email application or service.\n",
      "  6. For each contact, repeat the following:\n",
      "  7. Compose a new email with the subject 'Un saludo'.\n",
      "  8. Insert '[nombre]' with the actual name of the contact in the message body: 'Hola [nombre] espero que estes bien recuerda que te quiero mucho'.\n",
      "  9. Send the email to the respective contact's email address.\n",
      "  10. Open your calendar application or service.\n",
      "  11. Create a new event with the title 'Ver a Rodrigo'.\n",
      "  12. Set the date of the event to October 10, 2025.\n",
      "  13. Set the time of the event to begin at 2:00 PM and end at an appropriate time after this according to your preference.\n",
      "  14. Save the calendar event.\n",
      "  15. Compose a new email to rodrigo@hotmail.com with the subject 'Reunión el 10 de Octubre'.\n",
      "  16. Write the message asking if you can meet on the date and time of the calendar event you just created.\n",
      "  17. Send the email to rodrigo@hotmail.com.\n",
      "--------------------------------------------------------------------------------\n",
      "TOOL - find_contacts - Contacts got executed\n",
      "TOOL - send_email - Email sent to polo@gmail.com with body: No puedo verte hoyTOOL - send_email - Email sent to Diego Jr. with body: Hola Diego Jr. espero que estes bien recuerda que te quiero mucho\n",
      "\n",
      "TOOL - send_email - Email sent to Alessa with body: Hola Alessa espero que estes bien recuerda que te quiero mucho\n",
      "TOOL - send_email - Email sent to Angelica with body: Hola Angelica espero que estes bien recuerda que te quiero mucho\n",
      "TOOL - send_email - Email sent to Papa with body: Hola Papa espero que estes bien recuerda que te quiero mucho\n",
      "TOOL - send_email - Email sent to Mama with body: Hola Mama espero que estes bien recuerda que te quiero mucho\n",
      "TOOL - create_calendar_event - Created event 'Ver a Rodrigo' on 2025-10-10 at 14:00\n",
      "TOOL - send_email - Email sent to rodrigo@hotmail.com with body: Reunión el 10 de Octubre. ¿Podemos vernos el 10 de Octubre a las 2:00 PM?\n",
      "\n",
      "AGENT:\n",
      "Executed: Open your email application or service.\n",
      "Result: All tasks have been completed successfully:\n",
      "\n",
      "1. An email was sent to polo@gmail.com stating that you cannot see him today.\n",
      "2. Personalized greeting emails were sent to the following contacts:\n",
      "   - Diego Jr.\n",
      "   - Angelica\n",
      "   - Alessa\n",
      "   - Papa\n",
      "   - Mama\n",
      "3. A calendar event titled \"Ver a Rodrigo\" was created for October 10, 2025, at 2:00 PM.\n",
      "4. An email was sent to rodrigo@hotmail.com inquiring about meeting on October 10th at 2:00 PM.\n",
      "\n",
      "If you need any further assistance, feel free to ask!\n",
      "--------------------------------------------------------------------------------\n",
      "\n",
      "REPLAN:\n",
      "Final Response: There are no additional steps required for this task. All objectives have been successfully completed:\n",
      "\n",
      "1. An email notifying Polo that you can't meet with him today has been sent.\n",
      "2. Personalized greetings have been sent to all your listed contacts.\n",
      "3. The event for seeing Rodrigo on October 10, 2025, has been successfully created in your calendar.\n",
      "4. A follow-up email has been sent to Rodrigo to confirm the meeting.\n",
      "\n",
      "If you have any more tasks or need further assistance, feel free to let me know!\n",
      "--------------------------------------------------------------------------------\n"
     ]
    }
   ],
   "source": [
    "# Complex multi-step test\n",
    "complex_inputs = {\n",
    "    \"input\": \"\"\"Envia un correo a polo que su correo es polo@gmail.com de que no podre verlo hoy.\n",
    "    \n",
    "    Despues lista mis contactos y enviale a cada contacto el siguiente correo:\n",
    "    'Hola [nombre] espero que estes bien recuerda que te quiero mucho'\n",
    "    \n",
    "    Despues crea un evento en mi calendario para ver a rodrigo el siguiente 10 de Octubre del 2025\n",
    "    a las 02:00 pm y despues enviale un correo a rodrigo a su correo rodrigo@hotmail.com comentandole\n",
    "    que si podemos vernos a la fecha y hora en la que hice el evento.\n",
    "    \"\"\"\n",
    "}\n",
    "\n",
    "async for event in graph.astream(complex_inputs, config=config):\n",
    "    for k, v in event.items():\n",
    "        if k != \"__end__\":\n",
    "            print(f\"\\n{k.upper()}:\")\n",
    "            if k == \"planner\":\n",
    "                print(\"Plan created:\")\n",
    "                for i, step in enumerate(v.get(\"plan\", []), 1):\n",
    "                    print(f\"  {i}. {step}\")\n",
    "            elif k == \"agent\":\n",
    "                past_steps = v.get(\"past_steps\", [])\n",
    "                if past_steps:\n",
    "                    task, result = past_steps[-1]\n",
    "                    print(f\"Executed: {task}\")\n",
    "                    print(f\"Result: {result}\")\n",
    "            elif k == \"replan\":\n",
    "                if \"response\" in v:\n",
    "                    print(f\"Final Response: {v['response']}\")\n",
    "                elif \"plan\" in v:\n",
    "                    print(\"Updated plan:\")\n",
    "                    for i, step in enumerate(v[\"plan\"], 1):\n",
    "                        print(f\"  {i}. {step}\")\n",
    "            print(\"-\" * 80)"
   ]
  }
 ],
 "metadata": {
  "kernelspec": {
   "display_name": "Python 3",
   "language": "python",
   "name": "python3"
  },
  "language_info": {
   "codemirror_mode": {
    "name": "ipython",
    "version": 3
   },
   "file_extension": ".py",
   "mimetype": "text/x-python",
   "name": "python",
   "nbconvert_exporter": "python",
   "pygments_lexer": "ipython3",
   "version": "3.12.0"
  }
 },
 "nbformat": 4,
 "nbformat_minor": 5
}
