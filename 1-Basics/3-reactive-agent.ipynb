{
 "cells": [
  {
   "cell_type": "markdown",
   "id": "5f82c073",
   "metadata": {},
   "source": [
    "# Implementing a ReAct Agent with Router"
   ]
  },
  {
   "cell_type": "code",
   "execution_count": 43,
   "id": "e411eed2",
   "metadata": {},
   "outputs": [],
   "source": [
    "import os\n",
    "from dotenv import load_dotenv\n",
    "\n",
    "load_dotenv()\n",
    "os.environ['GROQ_API_KEY'] = os.getenv('GROQ_API_KEY') # type: ignore"
   ]
  },
  {
   "cell_type": "code",
   "execution_count": 44,
   "id": "f09ab91c",
   "metadata": {},
   "outputs": [],
   "source": [
    "from typing import TypedDict, Annotated\n",
    "from langgraph.graph import StateGraph, START, END\n",
    "from langgraph.graph.message import add_messages\n",
    "from langchain_groq import ChatGroq\n",
    "from langchain_core.messages import HumanMessage \n",
    "from langchain_core.tools import tool"
   ]
  },
  {
   "cell_type": "markdown",
   "id": "28837ea0",
   "metadata": {},
   "source": [
    "## 1 - Define the state"
   ]
  },
  {
   "cell_type": "code",
   "execution_count": 45,
   "id": "06cb2d6e",
   "metadata": {},
   "outputs": [],
   "source": [
    "class AgentState(TypedDict):\n",
    "    messages: Annotated[list, add_messages]"
   ]
  },
  {
   "cell_type": "markdown",
   "id": "5b808b38",
   "metadata": {},
   "source": [
    "## 2 - Create tools"
   ]
  },
  {
   "cell_type": "code",
   "execution_count": 46,
   "id": "9f86d48f",
   "metadata": {},
   "outputs": [],
   "source": [
    "@tool\n",
    "def find_contacts() -> list[str]:\n",
    "    \"\"\" Gets the contacts from the database \"\"\"\n",
    "    return [ \"Diego Jr.\", \"Angelica\", \"Alessa\", \"Papa\", \"Mama\"]\n",
    "\n",
    "@tool\n",
    "def send_email(contact: str, body: str) -> str:\n",
    "    \"\"\" Sends an email to contact \"\"\"\n",
    "    return f\"Email sent to {contact} with {body}\"\n",
    "\n",
    "@tool\n",
    "def create_calendar_event(title: str, date: str, time: str) -> str:\n",
    "    \"\"\" Create a calendar event \"\"\"\n",
    "    return f\"Created an event '{title}' on {date} at {time}\""
   ]
  },
  {
   "cell_type": "markdown",
   "id": "5210f963",
   "metadata": {},
   "source": [
    "## 3 -  Create the agent nodes"
   ]
  },
  {
   "cell_type": "code",
   "execution_count": 47,
   "id": "d47bb09b",
   "metadata": {},
   "outputs": [],
   "source": [
    "def call_agent(state: AgentState) -> AgentState:\n",
    "    llm = ChatGroq(model = \"llama-3.3-70b-versatile\")\n",
    "    tools = [find_contacts, send_email, create_calendar_event]\n",
    "    llm_with_tools = llm.bind_tools(tools)\n",
    "\n",
    "    messages = state[\"messages\"]\n",
    "    response = llm_with_tools.invoke(messages)\n",
    "\n",
    "    return { \"messages\": [response] }\n",
    "\n",
    "def execute_tools(state: AgentState) -> AgentState:\n",
    "    tools = [find_contacts, send_email, create_calendar_event]\n",
    "    tool_map = { tool.name: tool for tool in tools }\n",
    "\n",
    "    last_message = state[\"messages\"][-1]\n",
    "    tool_calls = last_message.tool_calls\n",
    "\n",
    "    tool_messages = []\n",
    "\n",
    "    print(tool_messages)\n",
    "    for tool_call in tool_calls:\n",
    "       tool = tool_map[tool_call['name']]\n",
    "       result = tool.invoke(tool_call['args'])\n",
    "        \n",
    "       tool_messages.append({\n",
    "            \"role\": \"tool\",\n",
    "            \"content\": str(result),\n",
    "            \"tool_call_id\": tool_call['id']\n",
    "       })\n",
    "    \n",
    "    return { \"messages\": tool_messages }"
   ]
  },
  {
   "cell_type": "markdown",
   "id": "4ad4d450",
   "metadata": {},
   "source": [
    "## 4 - Creating a routing\n",
    "\n",
    "Defines what to do next"
   ]
  },
  {
   "cell_type": "code",
   "execution_count": 48,
   "id": "1498ff50",
   "metadata": {},
   "outputs": [],
   "source": [
    "from typing import Literal\n",
    "\n",
    "def should_continue(state: AgentState) -> Literal[\"tools\", \"end\"]:\n",
    "    last_message = state[\"messages\"][-1]\n",
    "    tool_calls = getattr(last_message, 'tool_calls', None)\n",
    "    \n",
    "    if tool_calls and len(tool_calls) > 0:  # ✅ Better validation\n",
    "        return \"tools\"\n",
    "    \n",
    "    return \"end\""
   ]
  },
  {
   "cell_type": "markdown",
   "id": "db91fc0f",
   "metadata": {},
   "source": [
    "## 5 - Creating the Graph"
   ]
  },
  {
   "cell_type": "code",
   "execution_count": 49,
   "id": "f9aeac15",
   "metadata": {},
   "outputs": [],
   "source": [
    "workflow = StateGraph(AgentState)\n",
    "\n",
    "workflow.add_node(\"agent\", call_agent)\n",
    "workflow.add_node(\"tools\", execute_tools)\n",
    "\n",
    "workflow.add_edge(START, \"agent\")\n",
    "workflow.add_conditional_edges(\n",
    "    \"agent\",\n",
    "    should_continue,\n",
    "    {\n",
    "        \"tools\": \"tools\", ## --> Goes to the tool node\n",
    "        \"end\": END ## --> Goes to END node and Finish the flow\n",
    "    }\n",
    ")\n",
    "## If required, go back from tools to agent\n",
    "workflow.add_edge(\"tools\", \"agent\")\n",
    "\n",
    "graph = workflow.compile()"
   ]
  },
  {
   "cell_type": "code",
   "execution_count": 50,
   "id": "44666c33",
   "metadata": {},
   "outputs": [
    {
     "data": {
      "image/png": "[encoded data removed]",
      "text/plain": [
       "<IPython.core.display.Image object>"
      ]
     },
     "metadata": {},
     "output_type": "display_data"
    }
   ],
   "source": [
    "from IPython.display import Image,display\n",
    "## Display\n",
    "display(Image(graph.get_graph().draw_mermaid_png()))"
   ]
  },
  {
   "cell_type": "markdown",
   "id": "6c997509",
   "metadata": {},
   "source": [
    "## 6 - Invoking the agent"
   ]
  },
  {
   "cell_type": "code",
   "execution_count": 52,
   "id": "4e528af5",
   "metadata": {},
   "outputs": [
    {
     "name": "stdout",
     "output_type": "stream",
     "text": [
      "[]\n",
      "[]\n",
      "human: \n",
      "            Envia un correo a polo que su correo es polo@gmail.com de que no podre verlo hoy.\n",
      "\n",
      "\n",
      "            Despues busca en mis contactos y enviale a cada contacto el siguiente correo:\n",
      "            ```\n",
      "            Hola <contact> espero que estes bien recuerda que te quiero mucho\n",
      "            ```\n",
      "            Reemplaza <contact> por el contacto encontrado\n",
      "\n",
      "            Despues crea un evento en mi calendario para ver a rodrigo el siguiente 10 de Octubre del 2025\n",
      "            a las 02:00 pm y despues enviale un correo a rodrigo a su correo rodrigo@hotmail.com comentandole\n",
      "            que si podemos vernos a la fecha y hora en la que hice el evento.\n",
      "            \n",
      "ai: \n",
      "tool: Email sent to polo@gmail.com with No podré verlo hoy\n",
      "tool: ['Diego Jr.', 'Angelica', 'Alessa', 'Papa', 'Mama']\n",
      "tool: Email sent to rodrigo@hotmail.com with Hola rodrigo espero que estes bien recuerda que te quiero mucho\n",
      "tool: Created an event 'Ver a Rodrigo' on 10 Octubre 2025 at 02:00 pm\n",
      "tool: Email sent to rodrigo@hotmail.com with ¿Podemos vernos el 10 de Octubre del 2025 a las 02:00 pm?\n",
      "ai: \n",
      "tool: Email sent to diegojr@gmail.com with Hola Diego Jr. espero que estes bien recuerda que te quiero mucho\n",
      "tool: Email sent to angelica@gmail.com with Hola Angelica espero que estes bien recuerda que te quiero mucho\n",
      "tool: Email sent to alessa@gmail.com with Hola Alessa espero que estes bien recuerda que te quiero mucho\n",
      "tool: Email sent to papa@gmail.com with Hola Papa espero que estes bien recuerda que te quiero mucho\n",
      "tool: Email sent to mama@gmail.com with Hola Mama espero que estes bien recuerda que te quiero mucho\n",
      "ai: Tus correos han sido enviados y el evento ha sido creado.\n"
     ]
    }
   ],
   "source": [
    "result = graph.invoke({\n",
    "    \"messages\": [\n",
    "        HumanMessage(\n",
    "            content=\n",
    "            \"\"\"\n",
    "            Envia un correo a polo que su correo es polo@gmail.com de que no podre verlo hoy.\n",
    "            \n",
    "            \n",
    "            Despues busca en mis contactos y enviale a cada contacto el siguiente correo:\n",
    "            ```\n",
    "            Hola <contact> espero que estes bien recuerda que te quiero mucho\n",
    "            ```\n",
    "            Reemplaza <contact> por el contacto encontrado\n",
    "\n",
    "            Despues crea un evento en mi calendario para ver a rodrigo el siguiente 10 de Octubre del 2025\n",
    "            a las 02:00 pm y despues enviale un correo a rodrigo a su correo rodrigo@hotmail.com comentandole\n",
    "            que si podemos vernos a la fecha y hora en la que hice el evento.\n",
    "            \"\"\"\n",
    "        )\n",
    "    ]\n",
    "})\n",
    "\n",
    "for message in result[\"messages\"]:\n",
    "    print(f\"{message.type}: {message.content}\")"
   ]
  }
 ],
 "metadata": {
  "kernelspec": {
   "display_name": "Python 3",
   "language": "python",
   "name": "python3"
  },
  "language_info": {
   "codemirror_mode": {
    "name": "ipython",
    "version": 3
   },
   "file_extension": ".py",
   "mimetype": "text/x-python",
   "name": "python",
   "nbconvert_exporter": "python",
   "pygments_lexer": "ipython3",
   "version": "3.12.0"
  }
 },
 "nbformat": 4,
 "nbformat_minor": 5
}
