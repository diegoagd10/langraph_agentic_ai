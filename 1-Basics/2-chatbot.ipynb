{
 "cells": [
  {
   "cell_type": "markdown",
   "id": "e9cdfae3",
   "metadata": {},
   "source": [
    "## Implementing simple Chatbot Using LangGraph"
   ]
  },
  {
   "cell_type": "code",
   "execution_count": 1,
   "id": "15d0f8e6",
   "metadata": {},
   "outputs": [],
   "source": [
    "import os\n",
    "from dotenv import load_dotenv"
   ]
  },
  {
   "cell_type": "code",
   "execution_count": null,
   "id": "321ff1b6",
   "metadata": {},
   "outputs": [],
   "source": [
    "load_dotenv()\n",
    "os.environ['OPEN OPENAI_API_KEY'] = os.getenv('OPENAI_API_KEY') # type: ignore\n",
    "os.environ['GROQ_API_KEY'] = os.getenv('GROQ_API_KEY') # type: ignore"
   ]
  },
  {
   "cell_type": "code",
   "execution_count": 8,
   "id": "dd1ff64f",
   "metadata": {},
   "outputs": [
    {
     "data": {
      "text/plain": [
       "AIMessage(content=\"Hi Diego! Resident Evil 4 is a classic and has a huge fan base. Whether you're enjoying the original version or the newer remake, there are plenty of exciting moments and challenges. What's your favorite part or aspect of the game?\", additional_kwargs={'refusal': None}, response_metadata={'token_usage': {'completion_tokens': 47, 'prompt_tokens': 18, 'total_tokens': 65, 'completion_tokens_details': {'accepted_prediction_tokens': 0, 'audio_tokens': 0, 'reasoning_tokens': 0, 'rejected_prediction_tokens': 0}, 'prompt_tokens_details': {'audio_tokens': 0, 'cached_tokens': 0}}, 'model_name': 'gpt-4o-2024-08-06', 'system_fingerprint': 'fp_cbf1785567', 'id': 'chatcmpl-CLeTtO4RS87Dd5quzXcIUZGJvhbfo', 'service_tier': 'default', 'finish_reason': 'stop', 'logprobs': None}, id='run--3f1c452f-e112-49a6-b2db-35bfb571048b-0', usage_metadata={'input_tokens': 18, 'output_tokens': 47, 'total_tokens': 65, 'input_token_details': {'audio': 0, 'cache_read': 0}, 'output_token_details': {'audio': 0, 'reasoning': 0}})"
      ]
     },
     "execution_count": 8,
     "metadata": {},
     "output_type": "execute_result"
    }
   ],
   "source": [
    "from langchain_openai import ChatOpenAI\n",
    "llm_chatgpt=ChatOpenAI(model=\"gpt-4o\")\n",
    "llm_chatgpt.invoke(\"I'm Diego and I like to play Resident Evil 4\")"
   ]
  },
  {
   "cell_type": "code",
   "execution_count": 9,
   "id": "64095e9b",
   "metadata": {},
   "outputs": [
    {
     "data": {
      "text/plain": [
       "AIMessage(content=\"<think>\\nOkay, the user mentioned they're Diego and like to play Resident Evil 4. I should respond with a friendly greeting and acknowledge their gaming interest. Since they’re a fan of the RE4 series, maybe suggest some related content or games. I can ask about their favorite characters or memorable moments in the game to keep the conversation going. Also, check if they want tips on gameplay or other RE titles.\\n\\nI should keep the tone casual and welcoming. Maybe mention some key elements of RE4 that fans love, like Leon's character or the game's atmosphere. Let them know I can help with game discussions, tips, or even other related topics. Make sure to invite them to ask questions or share their experiences. Avoid using any complicated jargon. Keep it simple and engaging.\\n</think>\\n\\nHey Diego! 👋 Nice to meet you! Resident Evil 4 is an absolute classic—Leon's journey through Las Plagas is still one of the most iconic survival horror experiences out there. Whether you're farming for coins or dodging that giant Ganado, the game never gets old. \\n\\nWhat’s your favorite part of the game? The stealth sections? The combat? Or maybe the insane boss fights like the 100% Regenerado or the Lady? And do you stick to the original GameCube version, or are you rocking the remake? \\n\\nNeed tips for that last boss you’re stuck on? Or maybe you want to talk about other RE games, DLCs, or even the upcoming sequel? Let me know—I'm always up for a deep dive into Resident Evil lore. 😄\", additional_kwargs={}, response_metadata={'token_usage': {'completion_tokens': 326, 'prompt_tokens': 20, 'total_tokens': 346, 'completion_time': 0.911481027, 'prompt_time': 0.000873556, 'queue_time': 0.204928234, 'total_time': 0.912354583}, 'model_name': 'qwen/qwen3-32b', 'system_fingerprint': 'fp_5cf921caa2', 'service_tier': 'on_demand', 'finish_reason': 'stop', 'logprobs': None}, id='run--507c2a06-1e05-44f8-9423-a6fc3cfc7ecf-0', usage_metadata={'input_tokens': 20, 'output_tokens': 326, 'total_tokens': 346})"
      ]
     },
     "execution_count": 9,
     "metadata": {},
     "output_type": "execute_result"
    }
   ],
   "source": [
    "from langchain_groq import ChatGroq\n",
    "llm_groq=ChatGroq(model=\"qwen/qwen3-32b\")\n",
    "llm_groq.invoke(\"I'm Diego and I like to play Resident Evil 4\")"
   ]
  },
  {
   "cell_type": "code",
   "execution_count": 3,
   "id": "1c5215c1",
   "metadata": {},
   "outputs": [],
   "source": [
    "from typing_extensions import TypedDict\n",
    "from langgraph.graph import StateGraph, START, END\n",
    "from typing import Annotated\n",
    "from langgraph.graph.message import add_messages"
   ]
  },
  {
   "cell_type": "code",
   "execution_count": 4,
   "id": "75072297",
   "metadata": {},
   "outputs": [],
   "source": [
    "class State(TypedDict):\n",
    "    messages: Annotated[list, add_messages]"
   ]
  },
  {
   "cell_type": "code",
   "execution_count": 10,
   "id": "9a3016a9",
   "metadata": {},
   "outputs": [],
   "source": [
    "### Nodes\n",
    "\n",
    "def super_bot(state: State) -> State:\n",
    "    return { \"messages\": [llm_groq.invoke(state['messages'])] }"
   ]
  },
  {
   "cell_type": "code",
   "execution_count": 12,
   "id": "ec8ab5c4",
   "metadata": {},
   "outputs": [],
   "source": [
    "graph_buillder = StateGraph(State)\n",
    "\n",
    "graph_buillder.add_node(\"super_bot\", super_bot)\n",
    "\n",
    "graph_buillder.add_edge(START, \"super_bot\")\n",
    "graph_buillder.add_edge(\"super_bot\", END)\n",
    "\n",
    "graph = graph_buillder.compile()"
   ]
  },
  {
   "cell_type": "code",
   "execution_count": 14,
   "id": "80083a65",
   "metadata": {},
   "outputs": [
    {
     "data": {
      "image/png": "[encoded data removed]",
      "text/plain": [
       "<IPython.core.display.Image object>"
      ]
     },
     "metadata": {},
     "output_type": "display_data"
    }
   ],
   "source": [
    "from IPython.display import Image,display\n",
    "## Display\n",
    "display(Image(graph.get_graph().draw_mermaid_png()))"
   ]
  },
  {
   "cell_type": "code",
   "execution_count": 15,
   "id": "a7fb23f6",
   "metadata": {},
   "outputs": [
    {
     "data": {
      "text/plain": [
       "{'messages': [HumanMessage(content='My name is Diego and I love to play Resident Evil 4', additional_kwargs={}, response_metadata={}, id='6fe6b4e7-c45e-4788-a439-98141903e178'),\n",
       "  AIMessage(content=\"<think>\\nOkay, the user is Diego and he loves playing Resident Evil 4. I need to respond in a friendly and engaging way. First, I should acknowledge his name and his interest. Maybe start with a greeting that includes his name to make it personal. Next, since Resident Evil 4 is a classic game, I should mention its popularity and maybe highlight some aspects he might enjoy, like the gameplay or story. It's good to ask him a follow-up question to keep the conversation going, like which character is his favorite or if he prefers the original or remakes. Also, I can offer tips or discuss strategies if he's looking for help. Need to keep the tone positive and enthusiastic. Avoid any technical jargon, keep it casual. Make sure the response is not too long but covers the key points. Maybe add an emoji related to gaming to keep it light. Let me put that all together.\\n</think>\\n\\nHey Diego! 👾 That’s awesome—Resident Evil 4 is a masterpiece! Whether you're into the original’s survival horror vibe or the 2023 remake’s cinematic polish, it’s a game that never gets old. Do you have a favorite character (Leon, Ada, or Ashley?) or a strategy you swear by for tough boss fights? Need tips on the best weapon loadouts for different playstyles? Let me know—I’d love to hear what you’re into! 🕹️✨\", additional_kwargs={}, response_metadata={'token_usage': {'completion_tokens': 293, 'prompt_tokens': 21, 'total_tokens': 314, 'completion_time': 0.764321387, 'prompt_time': 0.000842137, 'queue_time': 0.232277456, 'total_time': 0.765163524}, 'model_name': 'qwen/qwen3-32b', 'system_fingerprint': 'fp_5cf921caa2', 'service_tier': 'on_demand', 'finish_reason': 'stop', 'logprobs': None}, id='run--f06bd4d1-e279-402e-af1b-e3ca44693e1f-0', usage_metadata={'input_tokens': 21, 'output_tokens': 293, 'total_tokens': 314})]}"
      ]
     },
     "execution_count": 15,
     "metadata": {},
     "output_type": "execute_result"
    }
   ],
   "source": [
    "## Invoke Graph\n",
    "graph.invoke({ \"messages\": [\"My name is Diego and I love to play Resident Evil 4\"] })"
   ]
  },
  {
   "cell_type": "code",
   "execution_count": 17,
   "id": "d6dd9055",
   "metadata": {},
   "outputs": [
    {
     "name": "stdout",
     "output_type": "stream",
     "text": [
      "{'messages': [HumanMessage(content='A mi me gusta Trix de Nestle', additional_kwargs={}, response_metadata={}, id='dd3bf116-de6b-4352-abc7-9f0bcff5944b')]}\n",
      "{'messages': [HumanMessage(content='A mi me gusta Trix de Nestle', additional_kwargs={}, response_metadata={}, id='dd3bf116-de6b-4352-abc7-9f0bcff5944b'), AIMessage(content=\"<think>\\nOkay, the user mentioned they like Trix cereal from Nestlé. I need to respond appropriately. First, I should acknowledge their preference. Trix is a colorful and sweet cereal, so maybe highlight that. It's important to note that it's a popular choice among kids, but also mention the sugar content for health awareness. I should ask if they want more info or tips on enjoying it, like pairing with milk or creative recipes. Keep the tone friendly and supportive. Let me check if there are any recent updates about Trix, but I don't think so. Also, maybe suggest alternatives if they're looking for healthier options. Make sure the response is concise but covers all key points.\\n</think>\\n\\n¡Qué divertido! Trix de Nestlé es un cereal muy colorido y dulce, ideal para los amantes de los sabores jugosos y las cerezas. Es cierto que su sabor frutal es irresistible, aunque, como en muchos cereales similares, tiene un contenido de azúcar alto. Si quieres disfrutarlo de manera equilibrada, podrías combinarlo con yogur natural o leche descremada para equilibrar un poco la dulzura. ¿Quieres que te sugiera algunas ideas creativas para comerlo o alternativas más saludables? 😊\", additional_kwargs={}, response_metadata={'token_usage': {'completion_tokens': 276, 'prompt_tokens': 17, 'total_tokens': 293, 'completion_time': 0.709111466, 'prompt_time': 0.000564261, 'queue_time': 0.203382133, 'total_time': 0.709675727}, 'model_name': 'qwen/qwen3-32b', 'system_fingerprint': 'fp_5cf921caa2', 'service_tier': 'on_demand', 'finish_reason': 'stop', 'logprobs': None}, id='run--fba06c9b-3b57-48d9-a5ad-60067b24e2fc-0', usage_metadata={'input_tokens': 17, 'output_tokens': 276, 'total_tokens': 293})]}\n"
     ]
    }
   ],
   "source": [
    "## Streaming the responses\n",
    "for event in graph.stream({ \"messages\": [\"A mi me gusta Trix de Nestle\"] }, stream_mode=\"values\"):\n",
    "    print(event)"
   ]
  },
  {
   "cell_type": "code",
   "execution_count": 18,
   "id": "b74b4e5a",
   "metadata": {},
   "outputs": [
    {
     "name": "stdout",
     "output_type": "stream",
     "text": [
      "{'super_bot': {'messages': [AIMessage(content='<think>\\nOkay, the user mentioned that they like Trix cereal from Nestlé. Let me start by acknowledging their preference. I should respond in a friendly and positive way to keep the conversation engaging.\\n\\nFirst, I should thank them for sharing their preference. Then, maybe add some information about the cereal to show I\\'m knowledgeable. I remember that Trix is a colorful cereal with different shapes and is part of the Nestlé brand. It\\'s also been around for a while, so mentioning its history could be interesting.\\n\\nI should check if there are any recent updates about Trix that I can include. For example, any new flavors or changes in the product. Also, maybe talk about the target audience—Trix is often marketed towards kids because of its fun colors and shapes. It\\'s important to note if it\\'s gluten-free or has any other dietary considerations, which I think it is gluten-free, but I need to confirm that.\\n\\nAnother point could be the mascot, the Trix Rabbit. That\\'s a classic character that\\'s been around for decades. Including that adds a nostalgic touch. Maybe ask if they remember the commercial jingles or the rabbit\\'s catchphrases. It\\'s a good way to engage the user further.\\n\\nI should also consider if there are any other cereals similar to Trix that they might enjoy. But since the user specifically likes Trix, maybe stick to that. However, offering to help with other cereal recommendations could be a nice offer if they want to expand their options.\\n\\nI need to make sure the response is concise but informative, not too long. Also, avoid any technical jargon. Keep the tone friendly and conversational. Let me structure the response step by step: start with a positive response, mention the product details, history, mascot, dietary info, and a question to invite further interaction.\\n</think>\\n\\n¡Me alegra que disfrutes Trix de Nestlé! Es un cereal colorido y divertido, ideal para los amantes de los sabores frutales (naranja, uva, limón y fresa) y sus formas adorables. Tiene un toque dulce que lo hace perfecto para el desayuno o un snack. \\n\\nAlgunos datos curiosos:  \\n- **Historia**: Trix se lanzó en 1954 y es uno de los cereales más icónicos de los EE.UU.  \\n- **Rabbit (el Conejo Trix)**: Su mascot es un conejo juguetón que ha aparecido en comerciales legendarios con frases como *\"Come Trix, come Trix!\"*  \\n- **Gluten-free**: La versión actual de Trix es sin gluten, ¡perfecto para quienes buscan opciones más saludables!  \\n\\n¿Te acuerdas de los comerciales de los años 80 con el conejo? ¡Fueron un fenómeno! 😄 ¿Quieres más detalles sobre el cereal o tal vez recomendaciones similares?', additional_kwargs={}, response_metadata={'token_usage': {'completion_tokens': 615, 'prompt_tokens': 17, 'total_tokens': 632, 'completion_time': 1.777910079, 'prompt_time': 0.000796837, 'queue_time': 0.204597391, 'total_time': 1.778706916}, 'model_name': 'qwen/qwen3-32b', 'system_fingerprint': 'fp_5cf921caa2', 'service_tier': 'on_demand', 'finish_reason': 'stop', 'logprobs': None}, id='run--67c87dd0-7c52-4c6d-ad52-be084f8d14db-0', usage_metadata={'input_tokens': 17, 'output_tokens': 615, 'total_tokens': 632})]}}\n"
     ]
    }
   ],
   "source": [
    "## Streaming the responses\n",
    "for event in graph.stream({ \"messages\": [\"A mi me gusta Trix de Nestle\"] }, stream_mode=\"updates\"):\n",
    "    print(event)"
   ]
  }
 ],
 "metadata": {
  "kernelspec": {
   "display_name": "Python 3",
   "language": "python",
   "name": "python3"
  },
  "language_info": {
   "codemirror_mode": {
    "name": "ipython",
    "version": 3
   },
   "file_extension": ".py",
   "mimetype": "text/x-python",
   "name": "python",
   "nbconvert_exporter": "python",
   "pygments_lexer": "ipython3",
   "version": "3.12.0"
  }
 },
 "nbformat": 4,
 "nbformat_minor": 5
}
